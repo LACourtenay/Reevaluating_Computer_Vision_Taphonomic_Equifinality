{
 "cells": [
  {
   "cell_type": "code",
   "execution_count": 1,
   "id": "ab182586",
   "metadata": {},
   "outputs": [
    {
     "name": "stdout",
     "output_type": "stream",
     "text": [
      "\n",
      "Libraries\n",
      "-----------------------------\n",
      "Tensorflow: 2.12.0\n",
      "Scikit Learn: 1.2.1\n",
      "Numpy: 1.22.1\n",
      "Matplotlib: 3.7.0\n"
     ]
    }
   ],
   "source": [
    "import tensorflow as tf\n",
    "from tensorflow.keras.applications import ResNet50, DenseNet201, VGG16, VGG19, InceptionV3\n",
    "from tensorflow.keras.layers import Dense, GlobalAveragePooling2D\n",
    "from tensorflow.keras.models import Model\n",
    "from tensorflow.keras.optimizers import SGD\n",
    "from tensorflow.keras.preprocessing.image import ImageDataGenerator\n",
    "from tensorflow.keras.preprocessing import image\n",
    "from tensorflow.keras.initializers import HeUniform\n",
    "\n",
    "import tensorflow as tf\n",
    "from tensorflow.keras.layers import Input, Conv2D, MaxPooling2D, Flatten, Dense, Dropout, Activation, BatchNormalization\n",
    "from tensorflow.keras.models import Model\n",
    "\n",
    "from sklearn.metrics import classification_report, confusion_matrix\n",
    "from sklearn.metrics import precision_recall_curve, auc, roc_curve\n",
    "\n",
    "import sklearn\n",
    "from sklearn.model_selection import train_test_split\n",
    "import os\n",
    "import numpy as np\n",
    "import os\n",
    "import shutil\n",
    "import random\n",
    "from matplotlib import pyplot as plt\n",
    "import matplotlib\n",
    "\n",
    "print(\"\\nLibraries\\n-----------------------------\")\n",
    "print(f\"Tensorflow: {tf.__version__}\")\n",
    "print(f\"Scikit Learn: {sklearn.__version__}\")\n",
    "print(f\"Numpy: {np.__version__}\")\n",
    "print(f\"Matplotlib: {matplotlib.__version__}\")"
   ]
  },
  {
   "cell_type": "code",
   "execution_count": 2,
   "id": "66ee6549",
   "metadata": {},
   "outputs": [],
   "source": [
    "def count_files_in_directory(directory_path):\n",
    "    total_files = 0\n",
    "\n",
    "    for root, _, files in os.walk(directory_path):\n",
    "        total_files += len(files)\n",
    "\n",
    "    return total_files"
   ]
  },
  {
   "cell_type": "code",
   "execution_count": 3,
   "id": "05a5edfc",
   "metadata": {},
   "outputs": [],
   "source": [
    "def create_test_set(source_dir, test_dir, class_names, test_percent):\n",
    "    os.makedirs(test_dir, exist_ok = True)\n",
    "    \n",
    "    for class_name in class_names:\n",
    "        class_source_dir = os.path.join(source_dir, class_name)\n",
    "        class_test_dir = os.path.join(test_dir, class_name)\n",
    "        os.makedirs(class_test_dir, exist_ok = True)\n",
    "        \n",
    "        images = os.listdir(class_source_dir)\n",
    "        num_images = len(images)\n",
    "        num_test_images = int(test_percent * num_images)\n",
    "        \n",
    "        test_indices = random.sample(range(num_images), num_test_images)\n",
    "        \n",
    "        for index in test_indices:\n",
    "            image_name = images[index]\n",
    "            source_path = os.path.join(class_source_dir, image_name)\n",
    "            target_path = os.path.join(class_test_dir, image_name)\n",
    "            shutil.move(source_path, target_path)"
   ]
  },
  {
   "cell_type": "code",
   "execution_count": 4,
   "id": "666cd656",
   "metadata": {},
   "outputs": [],
   "source": [
    "# Define image dimensions and other parameters\n",
    "img_height, img_width = 80, 400\n",
    "num_classes = 3\n",
    "\n",
    "data_dir = \"./DS2/Train\"\n",
    "class_names = os.listdir(data_dir)\n",
    "\n",
    "# test set\n",
    "source_data_dir = \"./DS2/Train\"\n",
    "test_data_dir = \"./DS2/Testset\"\n",
    "valid_data_dir = \"./DS2/Validset\"\n",
    "class_names = os.listdir(source_data_dir)\n",
    "\n",
    "first_execution = True\n",
    "\n",
    "if first_execution:\n",
    "    create_test_set(source_data_dir, test_data_dir, class_names, 0.3)\n",
    "    create_test_set(source_data_dir, valid_data_dir, class_names, 0.2)"
   ]
  },
  {
   "cell_type": "code",
   "execution_count": 5,
   "id": "3d764dac",
   "metadata": {},
   "outputs": [
    {
     "name": "stdout",
     "output_type": "stream",
     "text": [
      "Found 370 images belonging to 3 classes.\n",
      "Found 130 images belonging to 3 classes.\n"
     ]
    }
   ],
   "source": [
    "datagen = ImageDataGenerator(\n",
    "    rotation_range = 40,\n",
    "    width_shift_range = 0.2,\n",
    "    height_shift_range = 0.2,\n",
    "    shear_range = 0.2,\n",
    "    zoom_range = 0.2,\n",
    "    horizontal_flip = True,\n",
    "    vertical_flip = True,\n",
    "    rescale = 1.0 / 255.00\n",
    ")\n",
    "\n",
    "data_generator = datagen.flow_from_directory(\n",
    "    data_dir,\n",
    "    target_size = (img_height, img_width),\n",
    "    batch_size = 32,\n",
    "    class_mode = 'categorical',\n",
    "    shuffle = True,\n",
    "    classes = class_names\n",
    ")\n",
    "\n",
    "validation_datagen = ImageDataGenerator(rescale=1./255)\n",
    "\n",
    "validation_generator = validation_datagen.flow_from_directory(\n",
    "        \"./DS2/Validset\",\n",
    "        target_size = (img_height, img_width),\n",
    "        batch_size = 32,\n",
    "        class_mode = 'categorical',\n",
    "        shuffle = True,\n",
    "        classes = class_names\n",
    ")"
   ]
  },
  {
   "cell_type": "code",
   "execution_count": 6,
   "id": "e34caf98",
   "metadata": {},
   "outputs": [],
   "source": [
    "input_layer = Input(shape = (img_height, img_width, 3))\n",
    "\n",
    "# first block\n",
    "\n",
    "conv1 = Conv2D(\n",
    "    filters = 32, \n",
    "    kernel_size = (3, 3), \n",
    "    strides = (2, 2), \n",
    "    padding = 'same',\n",
    "    kernel_initializer = HeUniform()\n",
    ")(input_layer)\n",
    "conv1 = Activation('relu')(conv1)\n",
    "norm1 = BatchNormalization()(conv1)\n",
    "\n",
    "conv2 = Conv2D(\n",
    "    filters = 32, \n",
    "    kernel_size = (3, 3), \n",
    "    strides = (2, 2), \n",
    "    padding = 'same',\n",
    "    kernel_initializer = HeUniform()\n",
    ")(norm1)\n",
    "conv2 = Activation('relu')(conv2)\n",
    "norm2 = BatchNormalization()(conv2)\n",
    "\n",
    "pool1 = MaxPooling2D(\n",
    "    pool_size = (2, 2), \n",
    "    strides = (1, 1), \n",
    "    padding = 'same'\n",
    ")(norm2)\n",
    "\n",
    "dropout1 = Dropout(0.2)(pool1)\n",
    "\n",
    "# second block\n",
    "\n",
    "conv3 = Conv2D(\n",
    "    filters = 64, \n",
    "    kernel_size = (3, 3), \n",
    "    strides = (2, 2), \n",
    "    padding = 'same',\n",
    "    kernel_initializer = HeUniform()\n",
    ")(dropout1)\n",
    "conv3 = Activation('relu')(conv3)\n",
    "norm3 = BatchNormalization()(conv3)\n",
    "\n",
    "conv4 = Conv2D(\n",
    "    filters = 64, \n",
    "    kernel_size = (3, 3), \n",
    "    strides = (2, 2), \n",
    "    padding = 'same',\n",
    "    kernel_initializer = HeUniform()\n",
    ")(norm3)\n",
    "conv4 = Activation('relu')(conv4)\n",
    "norm4 = BatchNormalization()(conv4)\n",
    "\n",
    "pool2 = MaxPooling2D(\n",
    "    pool_size = (2, 2), \n",
    "    strides = (1, 1),\n",
    "    padding = 'same'\n",
    ")(norm4)\n",
    "\n",
    "dropout2 = Dropout(0.3)(pool2)\n",
    "\n",
    "# third block\n",
    "\n",
    "conv5 = Conv2D(\n",
    "    filters = 128, \n",
    "    kernel_size = (3, 3), \n",
    "    strides = (2, 2), \n",
    "    padding = 'same',\n",
    "    kernel_initializer = HeUniform()\n",
    ")(dropout2)\n",
    "conv5 = Activation('relu')(conv5)\n",
    "norm5 = BatchNormalization()(conv5)\n",
    "\n",
    "conv6 = Conv2D(\n",
    "    filters = 128, \n",
    "    kernel_size = (3, 3), \n",
    "    strides = (2, 2), \n",
    "    padding = 'same',\n",
    "    kernel_initializer = HeUniform()\n",
    ")(norm5)\n",
    "conv6 = Activation('relu')(conv6)\n",
    "norm6 = BatchNormalization()(conv6)\n",
    "\n",
    "pool3 = MaxPooling2D(\n",
    "    pool_size = (2, 2), \n",
    "    strides = (1, 1), \n",
    "    padding = 'same'\n",
    ")(norm6)\n",
    "\n",
    "dropout3 = Dropout(0.4)(pool3)\n",
    "\n",
    "# fourth block\n",
    "\n",
    "conv7 = Conv2D(\n",
    "    filters = 512, \n",
    "    kernel_size = (3, 3), \n",
    "    strides = (2, 2),  \n",
    "    padding = 'same',\n",
    "    kernel_initializer = HeUniform()\n",
    ")(dropout3)\n",
    "conv7 = Activation('relu')(conv7)\n",
    "norm7 = BatchNormalization()(conv7)\n",
    "\n",
    "conv8 = Conv2D(\n",
    "    filters = 512, \n",
    "    kernel_size = (3, 3), \n",
    "    strides = (2, 2), \n",
    "    padding = 'same',\n",
    "    kernel_initializer = HeUniform()\n",
    ")(norm7)\n",
    "conv8 = Activation('relu')(conv8)\n",
    "norm8 = BatchNormalization()(conv8)\n",
    "\n",
    "pool4 = MaxPooling2D(\n",
    "    pool_size = (2, 2), \n",
    "    strides = (1, 1), \n",
    "    padding = 'same'\n",
    ")(norm8)\n",
    "\n",
    "dropout4 = Dropout(0.4)(pool4)\n",
    "\n",
    "flatten = Flatten()(dropout4)\n",
    "\n",
    "dense1 = Dense(128, activation = 'relu')(flatten)\n",
    "norm9 = BatchNormalization()(dense1)\n",
    "dropout5 = Dropout(0.5)(norm9)\n",
    "output_layer = Dense(num_classes,\n",
    "                      activation = 'softmax')(dropout5)\n",
    "\n",
    "model = Model(inputs = input_layer, outputs = output_layer)"
   ]
  },
  {
   "cell_type": "code",
   "execution_count": 7,
   "id": "8faf1c99",
   "metadata": {},
   "outputs": [
    {
     "name": "stdout",
     "output_type": "stream",
     "text": [
      "Model: \"model\"\n",
      "_________________________________________________________________\n",
      " Layer (type)                Output Shape              Param #   \n",
      "=================================================================\n",
      " input_1 (InputLayer)        [(None, 80, 400, 3)]      0         \n",
      "                                                                 \n",
      " conv2d (Conv2D)             (None, 40, 200, 32)       896       \n",
      "                                                                 \n",
      " activation (Activation)     (None, 40, 200, 32)       0         \n",
      "                                                                 \n",
      " batch_normalization (BatchN  (None, 40, 200, 32)      128       \n",
      " ormalization)                                                   \n",
      "                                                                 \n",
      " conv2d_1 (Conv2D)           (None, 20, 100, 32)       9248      \n",
      "                                                                 \n",
      " activation_1 (Activation)   (None, 20, 100, 32)       0         \n",
      "                                                                 \n",
      " batch_normalization_1 (Batc  (None, 20, 100, 32)      128       \n",
      " hNormalization)                                                 \n",
      "                                                                 \n",
      " max_pooling2d (MaxPooling2D  (None, 20, 100, 32)      0         \n",
      " )                                                               \n",
      "                                                                 \n",
      " dropout (Dropout)           (None, 20, 100, 32)       0         \n",
      "                                                                 \n",
      " conv2d_2 (Conv2D)           (None, 10, 50, 64)        18496     \n",
      "                                                                 \n",
      " activation_2 (Activation)   (None, 10, 50, 64)        0         \n",
      "                                                                 \n",
      " batch_normalization_2 (Batc  (None, 10, 50, 64)       256       \n",
      " hNormalization)                                                 \n",
      "                                                                 \n",
      " conv2d_3 (Conv2D)           (None, 5, 25, 64)         36928     \n",
      "                                                                 \n",
      " activation_3 (Activation)   (None, 5, 25, 64)         0         \n",
      "                                                                 \n",
      " batch_normalization_3 (Batc  (None, 5, 25, 64)        256       \n",
      " hNormalization)                                                 \n",
      "                                                                 \n",
      " max_pooling2d_1 (MaxPooling  (None, 5, 25, 64)        0         \n",
      " 2D)                                                             \n",
      "                                                                 \n",
      " dropout_1 (Dropout)         (None, 5, 25, 64)         0         \n",
      "                                                                 \n",
      " conv2d_4 (Conv2D)           (None, 3, 13, 128)        73856     \n",
      "                                                                 \n",
      " activation_4 (Activation)   (None, 3, 13, 128)        0         \n",
      "                                                                 \n",
      " batch_normalization_4 (Batc  (None, 3, 13, 128)       512       \n",
      " hNormalization)                                                 \n",
      "                                                                 \n",
      " conv2d_5 (Conv2D)           (None, 2, 7, 128)         147584    \n",
      "                                                                 \n",
      " activation_5 (Activation)   (None, 2, 7, 128)         0         \n",
      "                                                                 \n",
      " batch_normalization_5 (Batc  (None, 2, 7, 128)        512       \n",
      " hNormalization)                                                 \n",
      "                                                                 \n",
      " max_pooling2d_2 (MaxPooling  (None, 2, 7, 128)        0         \n",
      " 2D)                                                             \n",
      "                                                                 \n",
      " dropout_2 (Dropout)         (None, 2, 7, 128)         0         \n",
      "                                                                 \n",
      " conv2d_6 (Conv2D)           (None, 1, 4, 512)         590336    \n",
      "                                                                 \n",
      " activation_6 (Activation)   (None, 1, 4, 512)         0         \n",
      "                                                                 \n",
      " batch_normalization_6 (Batc  (None, 1, 4, 512)        2048      \n",
      " hNormalization)                                                 \n",
      "                                                                 \n",
      " conv2d_7 (Conv2D)           (None, 1, 2, 512)         2359808   \n",
      "                                                                 \n",
      " activation_7 (Activation)   (None, 1, 2, 512)         0         \n",
      "                                                                 \n",
      " batch_normalization_7 (Batc  (None, 1, 2, 512)        2048      \n",
      " hNormalization)                                                 \n",
      "                                                                 \n",
      " max_pooling2d_3 (MaxPooling  (None, 1, 2, 512)        0         \n",
      " 2D)                                                             \n",
      "                                                                 \n",
      " dropout_3 (Dropout)         (None, 1, 2, 512)         0         \n",
      "                                                                 \n",
      " flatten (Flatten)           (None, 1024)              0         \n",
      "                                                                 \n",
      " dense (Dense)               (None, 128)               131200    \n",
      "                                                                 \n",
      " batch_normalization_8 (Batc  (None, 128)              512       \n",
      " hNormalization)                                                 \n",
      "                                                                 \n",
      " dropout_4 (Dropout)         (None, 128)               0         \n",
      "                                                                 \n",
      " dense_1 (Dense)             (None, 3)                 387       \n",
      "                                                                 \n",
      "=================================================================\n",
      "Total params: 3,375,139\n",
      "Trainable params: 3,371,939\n",
      "Non-trainable params: 3,200\n",
      "_________________________________________________________________\n"
     ]
    }
   ],
   "source": [
    "model.summary()"
   ]
  },
  {
   "cell_type": "code",
   "execution_count": 8,
   "id": "a8b83a7c",
   "metadata": {},
   "outputs": [],
   "source": [
    "model.compile(optimizer = SGD(learning_rate = 0.001, momentum = 0.9),\n",
    "              loss = 'categorical_crossentropy',\n",
    "              metrics = ['accuracy'])\n",
    "\n",
    "history = model.fit(data_generator, epochs = 100,\n",
    "                    validation_data = validation_generator, verbose = 0)"
   ]
  },
  {
   "cell_type": "markdown",
   "id": "ddd210f6",
   "metadata": {},
   "source": [
    "### Please note that the following curves a clear example of overfitting, this is seen by a clear divergence in training (blue) and validation loss (organge curve). Curves should ideally show convergence while a small gap should exist between the two curves to wards the end of the training cycle"
   ]
  },
  {
   "cell_type": "code",
   "execution_count": 9,
   "id": "ff4425ea",
   "metadata": {
    "scrolled": false
   },
   "outputs": [
    {
     "data": {
      "image/png": "[encoded data removed]",
      "text/plain": [
       "<Figure size 640x480 with 1 Axes>"
      ]
     },
     "metadata": {},
     "output_type": "display_data"
    }
   ],
   "source": [
    "plt.plot(history.history[\"loss\"])\n",
    "plt.plot(history.history[\"val_loss\"])\n",
    "plt.show()"
   ]
  },
  {
   "cell_type": "code",
   "execution_count": 10,
   "id": "e97a6687",
   "metadata": {},
   "outputs": [
    {
     "data": {
      "image/png": "[encoded data removed]",
      "text/plain": [
       "<Figure size 640x480 with 1 Axes>"
      ]
     },
     "metadata": {},
     "output_type": "display_data"
    }
   ],
   "source": [
    "plt.plot(history.history[\"accuracy\"])\n",
    "plt.plot(history.history[\"val_accuracy\"])\n",
    "plt.show()"
   ]
  },
  {
   "cell_type": "code",
   "execution_count": 11,
   "id": "c82d52ca",
   "metadata": {},
   "outputs": [
    {
     "name": "stdout",
     "output_type": "stream",
     "text": [
      "Found 194 images belonging to 3 classes.\n"
     ]
    }
   ],
   "source": [
    "test_datagen = ImageDataGenerator(\n",
    "    rescale=1./255\n",
    ")\n",
    "test_generator = test_datagen.flow_from_directory(\n",
    "    test_data_dir,\n",
    "    target_size = (img_height, img_width),\n",
    "    class_mode = 'categorical',\n",
    "    batch_size = count_files_in_directory(test_data_dir),\n",
    "    shuffle = False,\n",
    "    classes = class_names\n",
    ")"
   ]
  },
  {
   "cell_type": "code",
   "execution_count": 12,
   "id": "2148068e",
   "metadata": {
    "scrolled": true
   },
   "outputs": [],
   "source": [
    "real_labels = []\n",
    "test_probs = []\n",
    "test_labels = []\n",
    "test_errors = []\n",
    "batch_images, batch_labels = next(test_generator)\n",
    "\n",
    "for individual_image in range(batch_images.shape[0]):\n",
    "    single_image_array = batch_images[individual_image]\n",
    "    single_image_label = batch_labels[individual_image]\n",
    "    \n",
    "    test_prob = model.predict(np.expand_dims(single_image_array, axis=0), verbose = 0)\n",
    "    test_pred = np.argmax(test_prob)\n",
    "    test_error = np.sqrt(np.mean((test_prob - single_image_label) ** 2))\n",
    "    \n",
    "    \n",
    "    real_labels.append(single_image_label)\n",
    "    test_probs.append(test_prob[0, test_pred])\n",
    "    test_labels.append(test_pred)\n",
    "    test_errors.append(test_error)\n",
    "\n",
    "test_probs = np.array(test_probs).reshape(-1)\n",
    "test_labels = np.array(test_labels).reshape(-1)\n",
    "test_errors = np.array(test_errors).reshape(-1)"
   ]
  },
  {
   "cell_type": "code",
   "execution_count": 13,
   "id": "8358640e",
   "metadata": {},
   "outputs": [],
   "source": [
    "class_labels = []\n",
    "for array in real_labels:\n",
    "    class_label = np.argmax(array)\n",
    "    class_labels.append(class_label)\n",
    "real_labels = class_labels\n",
    "indices0 = [index for index, value in enumerate(real_labels) if value == 0]\n",
    "indices1 = [index for index, value in enumerate(real_labels) if value == 1]\n",
    "indices2 = [index for index, value in enumerate(real_labels) if value == 2]"
   ]
  },
  {
   "cell_type": "markdown",
   "id": "770fd183",
   "metadata": {},
   "source": [
    "### Please note through both loss values and the confusion matrix that the algorithm is unable to identify trampling marks succesfully with the highest loss values as well. This is due to the large imbalance between the classes in the dataset"
   ]
  },
  {
   "cell_type": "code",
   "execution_count": 14,
   "id": "3917ea95",
   "metadata": {},
   "outputs": [
    {
     "name": "stdout",
     "output_type": "stream",
     "text": [
      "Test Tooth Score Loss 38.01%\n",
      "Test Cut Mark Loss 8.33%\n",
      "Test Trampling Mark Loss 57.53%\n",
      "Overall Loss 17.49%\n"
     ]
    }
   ],
   "source": [
    "print(f\"Test Tooth Score Loss {np.mean(test_errors[indices1]) * 100:.2f}%\")\n",
    "print(f\"Test Cut Mark Loss {np.mean(test_errors[indices0]) * 100:.2f}%\")\n",
    "print(f\"Test Trampling Mark Loss {np.mean(test_errors[indices2]) * 100:.2f}%\")\n",
    "print(f\"Overall Loss {np.mean(test_errors) * 100:.2f}%\")"
   ]
  },
  {
   "cell_type": "code",
   "execution_count": 15,
   "id": "1efd2160",
   "metadata": {},
   "outputs": [
    {
     "name": "stdout",
     "output_type": "stream",
     "text": [
      "              precision    recall  f1-score   support\n",
      "\n",
      "           0       0.86      0.99      0.92       146\n",
      "           1       0.73      0.63      0.68        30\n",
      "           2       0.00      0.00      0.00        18\n",
      "\n",
      "    accuracy                           0.84       194\n",
      "   macro avg       0.53      0.54      0.53       194\n",
      "weighted avg       0.76      0.84      0.80       194\n",
      "\n",
      "[[144   2   0]\n",
      " [ 11  19   0]\n",
      " [ 13   5   0]]\n"
     ]
    },
    {
     "name": "stderr",
     "output_type": "stream",
     "text": [
      "C:\\Users\\l.courtenay\\AppData\\Local\\anaconda3\\lib\\site-packages\\sklearn\\metrics\\_classification.py:1344: UndefinedMetricWarning: Precision and F-score are ill-defined and being set to 0.0 in labels with no predicted samples. Use `zero_division` parameter to control this behavior.\n",
      "  _warn_prf(average, modifier, msg_start, len(result))\n",
      "C:\\Users\\l.courtenay\\AppData\\Local\\anaconda3\\lib\\site-packages\\sklearn\\metrics\\_classification.py:1344: UndefinedMetricWarning: Precision and F-score are ill-defined and being set to 0.0 in labels with no predicted samples. Use `zero_division` parameter to control this behavior.\n",
      "  _warn_prf(average, modifier, msg_start, len(result))\n",
      "C:\\Users\\l.courtenay\\AppData\\Local\\anaconda3\\lib\\site-packages\\sklearn\\metrics\\_classification.py:1344: UndefinedMetricWarning: Precision and F-score are ill-defined and being set to 0.0 in labels with no predicted samples. Use `zero_division` parameter to control this behavior.\n",
      "  _warn_prf(average, modifier, msg_start, len(result))\n"
     ]
    }
   ],
   "source": [
    "print(classification_report(real_labels, test_labels))\n",
    "print(confusion_matrix(real_labels, test_labels))"
   ]
  },
  {
   "cell_type": "code",
   "execution_count": 16,
   "id": "f1cb6075",
   "metadata": {},
   "outputs": [
    {
     "name": "stdout",
     "output_type": "stream",
     "text": [
      "Files moved successfully.\n"
     ]
    }
   ],
   "source": [
    "return_files = True\n",
    "\n",
    "if return_files:\n",
    "    source_folders = [\"./DS2/Testset\", \"./DS2/Validset\"]\n",
    "    destination_folder = \"./DS2/Train\"\n",
    "\n",
    "    for source_folder in source_folders:\n",
    "        source_path = os.path.join(source_folder, \"CutMark\")\n",
    "        destination_path = os.path.join(destination_folder, \"CutMark\")\n",
    "\n",
    "        # Move files from source subfolder to destination subfolder\n",
    "        for filename in os.listdir(source_path):\n",
    "            source_file = os.path.join(source_path, filename)\n",
    "            destination_file = os.path.join(destination_path, filename)\n",
    "            shutil.move(source_file, destination_file)\n",
    "\n",
    "        source_path = os.path.join(source_folder, \"Score\")\n",
    "        destination_path = os.path.join(destination_folder, \"Score\")\n",
    "\n",
    "        # Move files from source subfolder to destination subfolder\n",
    "        for filename in os.listdir(source_path):\n",
    "            source_file = os.path.join(source_path, filename)\n",
    "            destination_file = os.path.join(destination_path, filename)\n",
    "            shutil.move(source_file, destination_file)\n",
    "\n",
    "        source_path = os.path.join(source_folder, \"Trampling\")\n",
    "        destination_path = os.path.join(destination_folder, \"Trampling\")\n",
    "\n",
    "        # Move files from source subfolder to destination subfolder\n",
    "        for filename in os.listdir(source_path):\n",
    "            source_file = os.path.join(source_path, filename)\n",
    "            destination_file = os.path.join(destination_path, filename)\n",
    "            shutil.move(source_file, destination_file)\n",
    "\n",
    "    print(\"Files moved successfully.\")"
   ]
  },
  {
   "cell_type": "code",
   "execution_count": 17,
   "id": "285d9904",
   "metadata": {},
   "outputs": [],
   "source": [
    "import winsound\n",
    "winsound.Beep(1000, 2000)  # Beep at 1000 Hz for 200 milliseconds"
   ]
  }
 ],
 "metadata": {
  "kernelspec": {
   "display_name": "Python 3 (ipykernel)",
   "language": "python",
   "name": "python3"
  },
  "language_info": {
   "codemirror_mode": {
    "name": "ipython",
    "version": 3
   },
   "file_extension": ".py",
   "mimetype": "text/x-python",
   "name": "python",
   "nbconvert_exporter": "python",
   "pygments_lexer": "ipython3",
   "version": "3.10.9"
  }
 },
 "nbformat": 4,
 "nbformat_minor": 5
}
