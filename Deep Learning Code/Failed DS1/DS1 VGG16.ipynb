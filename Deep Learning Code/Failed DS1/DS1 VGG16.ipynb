{
 "cells": [
  {
   "cell_type": "code",
   "execution_count": 1,
   "id": "ab182586",
   "metadata": {},
   "outputs": [
    {
     "name": "stdout",
     "output_type": "stream",
     "text": [
      "\n",
      "Libraries\n",
      "-----------------------------\n",
      "Tensorflow: 2.12.0\n",
      "Scikit Learn: 1.2.1\n",
      "Numpy: 1.22.1\n",
      "Matplotlib: 3.7.0\n"
     ]
    }
   ],
   "source": [
    "import tensorflow as tf\n",
    "from tensorflow.keras.applications import ResNet50, DenseNet201, VGG16, VGG19, InceptionV3\n",
    "from tensorflow.keras.layers import Dense, GlobalAveragePooling2D\n",
    "from tensorflow.keras.models import Model\n",
    "from tensorflow.keras.optimizers import SGD\n",
    "from tensorflow.keras.preprocessing.image import ImageDataGenerator\n",
    "from tensorflow.keras.preprocessing import image\n",
    "from tensorflow.keras.initializers import HeUniform\n",
    "\n",
    "import tensorflow as tf\n",
    "from tensorflow.keras.layers import Input, Conv2D, MaxPooling2D, Flatten, Dense, Dropout, Activation, BatchNormalization\n",
    "from tensorflow.keras.models import Model\n",
    "\n",
    "from sklearn.metrics import classification_report, confusion_matrix\n",
    "from sklearn.metrics import precision_recall_curve, auc, roc_curve\n",
    "\n",
    "import sklearn\n",
    "from sklearn.model_selection import train_test_split\n",
    "import os\n",
    "import numpy as np\n",
    "import os\n",
    "import shutil\n",
    "import random\n",
    "from matplotlib import pyplot as plt\n",
    "import matplotlib\n",
    "\n",
    "print(\"\\nLibraries\\n-----------------------------\")\n",
    "print(f\"Tensorflow: {tf.__version__}\")\n",
    "print(f\"Scikit Learn: {sklearn.__version__}\")\n",
    "print(f\"Numpy: {np.__version__}\")\n",
    "print(f\"Matplotlib: {matplotlib.__version__}\")"
   ]
  },
  {
   "cell_type": "code",
   "execution_count": 2,
   "id": "66ee6549",
   "metadata": {},
   "outputs": [],
   "source": [
    "def count_files_in_directory(directory_path):\n",
    "    total_files = 0\n",
    "\n",
    "    for root, _, files in os.walk(directory_path):\n",
    "        total_files += len(files)\n",
    "\n",
    "    return total_files"
   ]
  },
  {
   "cell_type": "code",
   "execution_count": 3,
   "id": "05a5edfc",
   "metadata": {},
   "outputs": [],
   "source": [
    "def create_test_set(source_dir, test_dir, class_names, test_percent):\n",
    "    os.makedirs(test_dir, exist_ok = True)\n",
    "    \n",
    "    for class_name in class_names:\n",
    "        class_source_dir = os.path.join(source_dir, class_name)\n",
    "        class_test_dir = os.path.join(test_dir, class_name)\n",
    "        os.makedirs(class_test_dir, exist_ok = True)\n",
    "        \n",
    "        images = os.listdir(class_source_dir)\n",
    "        num_images = len(images)\n",
    "        num_test_images = int(test_percent * num_images)\n",
    "        \n",
    "        test_indices = random.sample(range(num_images), num_test_images)\n",
    "        \n",
    "        for index in test_indices:\n",
    "            image_name = images[index]\n",
    "            source_path = os.path.join(class_source_dir, image_name)\n",
    "            target_path = os.path.join(class_test_dir, image_name)\n",
    "            shutil.move(source_path, target_path)"
   ]
  },
  {
   "cell_type": "code",
   "execution_count": 4,
   "id": "666cd656",
   "metadata": {},
   "outputs": [],
   "source": [
    "# Define image dimensions and other parameters\n",
    "img_height, img_width = 80, 400\n",
    "\n",
    "data_dir = \"./DS1\"\n",
    "\n",
    "# test set\n",
    "train_data_dir = \"./DS1/Train\"\n",
    "test_data_dir = \"./DS1/Test\"\n",
    "valid_data_dir = \"./DS1/Valid\"\n",
    "\n",
    "class_names = os.listdir(train_data_dir)\n",
    "\n",
    "first_execution = True\n",
    "\n",
    "if first_execution:\n",
    "    create_test_set(train_data_dir, test_data_dir, class_names, 0.3)\n",
    "    create_test_set(train_data_dir, valid_data_dir, class_names, 0.2)"
   ]
  },
  {
   "cell_type": "code",
   "execution_count": 5,
   "id": "3d764dac",
   "metadata": {},
   "outputs": [
    {
     "name": "stdout",
     "output_type": "stream",
     "text": [
      "Found 302 images belonging to 2 classes.\n",
      "Found 74 images belonging to 2 classes.\n"
     ]
    }
   ],
   "source": [
    "datagen = ImageDataGenerator(\n",
    "    rotation_range = 40,\n",
    "    width_shift_range = 0.2,\n",
    "    height_shift_range = 0.2,\n",
    "    shear_range = 0.2,\n",
    "    zoom_range = 0.2,\n",
    "    horizontal_flip = True,\n",
    "    vertical_flip = True,\n",
    "    rescale = 1.0 / 255.0,\n",
    "    preprocessing_function = tf.keras.applications.vgg16.preprocess_input\n",
    ")\n",
    "\n",
    "data_generator = datagen.flow_from_directory(\n",
    "    train_data_dir,\n",
    "    target_size = (img_height, img_width),\n",
    "    batch_size = 32,\n",
    "    class_mode = 'binary',\n",
    "    shuffle = True\n",
    ")\n",
    "\n",
    "validation_datagen = ImageDataGenerator(\n",
    "    rescale=1./255\n",
    ")\n",
    "\n",
    "validation_generator = validation_datagen.flow_from_directory(\n",
    "        valid_data_dir,\n",
    "        target_size = (img_height, img_width),\n",
    "        batch_size = 14,\n",
    "        class_mode = 'binary',\n",
    "        shuffle = True\n",
    ")"
   ]
  },
  {
   "cell_type": "code",
   "execution_count": 6,
   "id": "e34caf98",
   "metadata": {},
   "outputs": [],
   "source": [
    "base_model = VGG16(\n",
    "    weights = \"imagenet\",\n",
    "    include_top = False,\n",
    "    input_shape = (img_height, img_width, 3)\n",
    ")\n",
    "\n",
    "# freeze already trained layers for transfer learning\n",
    "for layer in base_model.layers:\n",
    "    layer.trainable = False\n",
    "\n",
    "x = base_model.output\n",
    "x = Flatten()(x)\n",
    "x = Dense(128, activation = 'relu', kernel_initializer = 'uniform')(x)\n",
    "predictions = Dense(1, activation = 'softmax')(x)\n",
    "\n",
    "model = Model(inputs = base_model.input, outputs = predictions)"
   ]
  },
  {
   "cell_type": "code",
   "execution_count": 7,
   "id": "8faf1c99",
   "metadata": {},
   "outputs": [
    {
     "name": "stdout",
     "output_type": "stream",
     "text": [
      "Model: \"model\"\n",
      "_________________________________________________________________\n",
      " Layer (type)                Output Shape              Param #   \n",
      "=================================================================\n",
      " input_1 (InputLayer)        [(None, 80, 400, 3)]      0         \n",
      "                                                                 \n",
      " block1_conv1 (Conv2D)       (None, 80, 400, 64)       1792      \n",
      "                                                                 \n",
      " block1_conv2 (Conv2D)       (None, 80, 400, 64)       36928     \n",
      "                                                                 \n",
      " block1_pool (MaxPooling2D)  (None, 40, 200, 64)       0         \n",
      "                                                                 \n",
      " block2_conv1 (Conv2D)       (None, 40, 200, 128)      73856     \n",
      "                                                                 \n",
      " block2_conv2 (Conv2D)       (None, 40, 200, 128)      147584    \n",
      "                                                                 \n",
      " block2_pool (MaxPooling2D)  (None, 20, 100, 128)      0         \n",
      "                                                                 \n",
      " block3_conv1 (Conv2D)       (None, 20, 100, 256)      295168    \n",
      "                                                                 \n",
      " block3_conv2 (Conv2D)       (None, 20, 100, 256)      590080    \n",
      "                                                                 \n",
      " block3_conv3 (Conv2D)       (None, 20, 100, 256)      590080    \n",
      "                                                                 \n",
      " block3_pool (MaxPooling2D)  (None, 10, 50, 256)       0         \n",
      "                                                                 \n",
      " block4_conv1 (Conv2D)       (None, 10, 50, 512)       1180160   \n",
      "                                                                 \n",
      " block4_conv2 (Conv2D)       (None, 10, 50, 512)       2359808   \n",
      "                                                                 \n",
      " block4_conv3 (Conv2D)       (None, 10, 50, 512)       2359808   \n",
      "                                                                 \n",
      " block4_pool (MaxPooling2D)  (None, 5, 25, 512)        0         \n",
      "                                                                 \n",
      " block5_conv1 (Conv2D)       (None, 5, 25, 512)        2359808   \n",
      "                                                                 \n",
      " block5_conv2 (Conv2D)       (None, 5, 25, 512)        2359808   \n",
      "                                                                 \n",
      " block5_conv3 (Conv2D)       (None, 5, 25, 512)        2359808   \n",
      "                                                                 \n",
      " block5_pool (MaxPooling2D)  (None, 2, 12, 512)        0         \n",
      "                                                                 \n",
      " flatten (Flatten)           (None, 12288)             0         \n",
      "                                                                 \n",
      " dense (Dense)               (None, 128)               1572992   \n",
      "                                                                 \n",
      " dense_1 (Dense)             (None, 1)                 129       \n",
      "                                                                 \n",
      "=================================================================\n",
      "Total params: 16,287,809\n",
      "Trainable params: 1,573,121\n",
      "Non-trainable params: 14,714,688\n",
      "_________________________________________________________________\n"
     ]
    }
   ],
   "source": [
    "model.summary()"
   ]
  },
  {
   "cell_type": "code",
   "execution_count": 8,
   "id": "a8b83a7c",
   "metadata": {},
   "outputs": [],
   "source": [
    "model.compile(optimizer = SGD(learning_rate = 0.001, momentum = 0.9),\n",
    "              loss = 'binary_crossentropy',\n",
    "              metrics = ['accuracy'])\n",
    "\n",
    "history = model.fit(data_generator, epochs = 100,\n",
    "                    validation_data = validation_generator, verbose = 0)"
   ]
  },
  {
   "cell_type": "markdown",
   "id": "74e4bf85",
   "metadata": {},
   "source": [
    "### Please note that while the loss curve presents an ideal training curve the fact that neither validation nor training accuracy changes at any point through time is a clear indication that the algorithm isn't really learning anything at all, i.e. the train and validation sets are insufficient for the task"
   ]
  },
  {
   "cell_type": "code",
   "execution_count": 9,
   "id": "ff4425ea",
   "metadata": {},
   "outputs": [
    {
     "data": {
      "image/png": "[encoded data removed]",
      "text/plain": [
       "<Figure size 640x480 with 1 Axes>"
      ]
     },
     "metadata": {},
     "output_type": "display_data"
    }
   ],
   "source": [
    "plt.plot(history.history[\"loss\"])\n",
    "plt.plot(history.history[\"val_loss\"])\n",
    "plt.show()"
   ]
  },
  {
   "cell_type": "code",
   "execution_count": 10,
   "id": "e97a6687",
   "metadata": {},
   "outputs": [
    {
     "data": {
      "image/png": "[encoded data removed]",
      "text/plain": [
       "<Figure size 640x480 with 1 Axes>"
      ]
     },
     "metadata": {},
     "output_type": "display_data"
    }
   ],
   "source": [
    "plt.plot(history.history[\"accuracy\"])\n",
    "plt.plot(history.history[\"val_accuracy\"])\n",
    "plt.show()"
   ]
  },
  {
   "cell_type": "code",
   "execution_count": 11,
   "id": "c82d52ca",
   "metadata": {},
   "outputs": [
    {
     "name": "stdout",
     "output_type": "stream",
     "text": [
      "Found 159 images belonging to 2 classes.\n"
     ]
    }
   ],
   "source": [
    "test_datagen = ImageDataGenerator(\n",
    "    rescale=1./255\n",
    ")\n",
    "test_generator = test_datagen.flow_from_directory(\n",
    "    test_data_dir,\n",
    "    target_size = (img_height, img_width),\n",
    "    class_mode = 'binary',\n",
    "    batch_size = count_files_in_directory(test_data_dir),\n",
    "    shuffle = False\n",
    ")"
   ]
  },
  {
   "cell_type": "code",
   "execution_count": 12,
   "id": "2148068e",
   "metadata": {
    "scrolled": true
   },
   "outputs": [],
   "source": [
    "real_labels = []\n",
    "test_probs = []\n",
    "test_labels = []\n",
    "batch_images, batch_labels = next(test_generator)\n",
    "\n",
    "for individual_image in range(batch_images.shape[0]):\n",
    "    single_image_array = batch_images[individual_image]\n",
    "    single_image_label = batch_labels[individual_image]\n",
    "    \n",
    "    test_prob = model.predict(np.expand_dims(single_image_array, axis=0), verbose = 0)\n",
    "    test_pred = np.argmax(test_prob)\n",
    "    \n",
    "    real_labels.append(single_image_label)\n",
    "    test_probs.append(test_prob[0, test_pred])\n",
    "    test_labels.append(test_pred)\n",
    "\n",
    "test_probs = np.array(test_probs).reshape(-1)\n",
    "test_labels = np.array(test_labels).reshape(-1)"
   ]
  },
  {
   "cell_type": "markdown",
   "id": "15de9a32",
   "metadata": {},
   "source": [
    "### Please note through both loss values and the confusion matrix that the algorithm basically classes everything as a cut mark, regardless of whether it is or it isnt, this is a clear sign of an algorithm that is not working. This is due to the large imbalance between the two classes in the dataset"
   ]
  },
  {
   "cell_type": "code",
   "execution_count": 13,
   "id": "3917ea95",
   "metadata": {},
   "outputs": [
    {
     "name": "stdout",
     "output_type": "stream",
     "text": [
      "Crocodile Loss 100.00%\n",
      "Cut Mark Loss 0.00%\n",
      "Overall Loss 28.59%\n"
     ]
    }
   ],
   "source": [
    "indices0 = [index for index, value in enumerate(real_labels) if value == 0]\n",
    "indices1 = [index for index, value in enumerate(real_labels) if value == 1]\n",
    "test_croc_probs = 1 - test_probs[indices0]\n",
    "test_cm_probs = test_probs[indices1]\n",
    "\n",
    "print(f\"Crocodile Loss {np.sqrt(np.mean(np.square(1 - test_croc_probs))) * 100:.2f}%\")\n",
    "print(f\"Cut Mark Loss {np.sqrt(np.mean(np.square(1 - test_cm_probs))) * 100:.2f}%\")\n",
    "print(f\"Overall Loss {np.sqrt(np.mean(np.square(np.concatenate((1 - test_croc_probs, 1 - test_cm_probs))))) * 100:.2f}%\")"
   ]
  },
  {
   "cell_type": "code",
   "execution_count": 14,
   "id": "1efd2160",
   "metadata": {},
   "outputs": [
    {
     "name": "stdout",
     "output_type": "stream",
     "text": [
      "              precision    recall  f1-score   support\n",
      "\n",
      "         0.0       0.08      1.00      0.15        13\n",
      "         1.0       0.00      0.00      0.00       146\n",
      "\n",
      "    accuracy                           0.08       159\n",
      "   macro avg       0.04      0.50      0.08       159\n",
      "weighted avg       0.01      0.08      0.01       159\n",
      "\n",
      "[[ 13   0]\n",
      " [146   0]]\n"
     ]
    },
    {
     "name": "stderr",
     "output_type": "stream",
     "text": [
      "C:\\Users\\l.courtenay\\AppData\\Local\\anaconda3\\lib\\site-packages\\sklearn\\metrics\\_classification.py:1344: UndefinedMetricWarning: Precision and F-score are ill-defined and being set to 0.0 in labels with no predicted samples. Use `zero_division` parameter to control this behavior.\n",
      "  _warn_prf(average, modifier, msg_start, len(result))\n",
      "C:\\Users\\l.courtenay\\AppData\\Local\\anaconda3\\lib\\site-packages\\sklearn\\metrics\\_classification.py:1344: UndefinedMetricWarning: Precision and F-score are ill-defined and being set to 0.0 in labels with no predicted samples. Use `zero_division` parameter to control this behavior.\n",
      "  _warn_prf(average, modifier, msg_start, len(result))\n",
      "C:\\Users\\l.courtenay\\AppData\\Local\\anaconda3\\lib\\site-packages\\sklearn\\metrics\\_classification.py:1344: UndefinedMetricWarning: Precision and F-score are ill-defined and being set to 0.0 in labels with no predicted samples. Use `zero_division` parameter to control this behavior.\n",
      "  _warn_prf(average, modifier, msg_start, len(result))\n"
     ]
    }
   ],
   "source": [
    "print(classification_report(real_labels, test_labels))\n",
    "print(confusion_matrix(real_labels, test_labels))"
   ]
  },
  {
   "cell_type": "code",
   "execution_count": 15,
   "id": "f1cb6075",
   "metadata": {},
   "outputs": [
    {
     "name": "stdout",
     "output_type": "stream",
     "text": [
      "Files moved successfully.\n"
     ]
    }
   ],
   "source": [
    "return_files = True\n",
    "\n",
    "if return_files:\n",
    "    source_folders = [\"./DS1/Test\", \"./DS1/Valid\"]\n",
    "    destination_folder = \"./DS1/Train\"\n",
    "\n",
    "    for source_folder in source_folders:\n",
    "        croc_source_path = os.path.join(source_folder, \"Crocodile\")\n",
    "        cut_mark_source_path = os.path.join(source_folder, \"CutMark\")\n",
    "\n",
    "        croc_destination_path = os.path.join(destination_folder, \"Crocodile\")\n",
    "        cut_mark_destination_path = os.path.join(destination_folder, \"CutMark\")\n",
    "\n",
    "        for filename in os.listdir(croc_source_path):\n",
    "            source_file = os.path.join(croc_source_path, filename)\n",
    "            destination_file = os.path.join(croc_destination_path, filename)\n",
    "            shutil.move(source_file, destination_file)\n",
    "\n",
    "        for filename in os.listdir(cut_mark_source_path):\n",
    "            source_file = os.path.join(cut_mark_source_path, filename)\n",
    "            destination_file = os.path.join(cut_mark_destination_path, filename)\n",
    "            shutil.move(source_file, destination_file)\n",
    "\n",
    "    print(\"Files moved successfully.\")"
   ]
  }
 ],
 "metadata": {
  "kernelspec": {
   "display_name": "Python 3 (ipykernel)",
   "language": "python",
   "name": "python3"
  },
  "language_info": {
   "codemirror_mode": {
    "name": "ipython",
    "version": 3
   },
   "file_extension": ".py",
   "mimetype": "text/x-python",
   "name": "python",
   "nbconvert_exporter": "python",
   "pygments_lexer": "ipython3",
   "version": "3.10.9"
  }
 },
 "nbformat": 4,
 "nbformat_minor": 5
}
